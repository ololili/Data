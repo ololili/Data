{
 "cells": [
  {
   "cell_type": "markdown",
   "id": "c9c06f5c",
   "metadata": {
    "collapsed": false
   },
   "source": [
    "Imports"
   ]
  },
  {
   "cell_type": "code",
   "execution_count": 19,
   "id": "4c2ffe6c",
   "metadata": {
    "collapsed": false
   },
   "outputs": [],
   "source": [
    "import pandas as pd\n",
    "import seaborn as sns\n",
    "import matplotlib.pyplot as plt\n",
    "\n",
    "import import_ipynb\n",
    "from PrepareData import get_complete_app_df, get_review_df"
   ]
  },
  {
   "cell_type": "markdown",
   "id": "c2e409b4",
   "metadata": {
    "collapsed": false
   },
   "source": [
    "Get the database"
   ]
  },
  {
   "cell_type": "code",
   "execution_count": 21,
   "id": "ff4c95fb",
   "metadata": {
    "collapsed": false
   },
   "outputs": [],
   "source": [
    "app_df = get_complete_app_df()\n",
    "review_df = get_review_df()"
   ]
  },
  {
   "cell_type": "markdown",
   "id": "db64e920",
   "metadata": {
    "collapsed": false
   },
   "source": [
    "Show graphs depicting the quality of apps"
   ]
  },
  {
   "cell_type": "code",
   "execution_count": 3,
   "id": "1e612a72",
   "metadata": {
    "collapsed": false
   },
   "outputs": [],
   "source": [
    "category_app_df = app_df.groupby(by=\"Category\").median().reset_index()\n",
    "order_ = category_app_df.sort_values(\"Quality\")[\"Category\"]\n",
    "order_ = order_[::-1]\n"
   ]
  },
  {
   "cell_type": "code",
   "execution_count": null,
   "id": "c0c08757",
   "metadata": {
    "collapsed": false
   },
   "outputs": [],
   "source": [
    "sns.set(rc={\"figure.figsize\": (10, 10)})\n",
    "sns.barplot(y=\"Category\", x=\"Quality\", data=category_app_df, order=order_)\n",
    "plt.grid()\n",
    "plt.xscale(\"log\")\n",
    "plt.show()"
   ]
  },
  {
   "cell_type": "code",
   "execution_count": null,
   "id": "8b257d92",
   "metadata": {
    "collapsed": false
   },
   "outputs": [],
   "source": [
    "sns.set(rc={\"figure.figsize\": (10, 10)})\n",
    "sns.boxplot(y=\"Category\", x=\"Quality\", data=app_df, order=order_[:10])\n",
    "plt.grid()\n",
    "plt.xscale(\"log\")\n",
    "plt.show()"
   ]
  },
  {
   "cell_type": "code",
   "execution_count": 16,
   "id": "00720ac2",
   "metadata": {
    "collapsed": false
   },
   "outputs": [],
   "source": [
    "top_ten_df = app_df[app_df[\"Category\"].isin(order_[:10])]\n",
    "\n",
    "top_ten_df = top_ten_df.groupby(by=\"Category\").count().reset_index()\n",
    "\n",
    "top_ten_df = top_ten_df.drop(top_ten_df[top_ten_df[\"App\"] == 0].index)\n",
    "\n",
    "top_ten_df[\"Category\"] = top_ten_df[\"Category\"].cat.remove_unused_categories()\n",
    "\n",
    "#def sorter(row):\n",
    "#    row[\"Sorted\"] = list(order_).index(row[\"Category\"])\n",
    "#    return row\n",
    "\n",
    "#top_ten_df = top_ten_df.apply(sorter, axis=1)\n",
    "#top_ten_df = top_ten_df.sort_values(\"Sorted\")"
   ]
  },
  {
   "cell_type": "code",
   "execution_count": null,
   "id": "f0eecd87",
   "metadata": {
    "collapsed": false
   },
   "outputs": [],
   "source": [
    "sns.barplot(x=\"App\", y=\"Category\", data=top_ten_df, order=order_[:10])\n",
    "plt.show()"
   ]
  },
  {
   "cell_type": "code",
   "execution_count": 39,
   "id": "a0dde1a8",
   "metadata": {
    "collapsed": false
   },
   "outputs": [
    {
     "name": "stdout",
     "output_type": "stream",
     "text": [
      "These are the top 5 photography apps:\n",
      "Google Photos\n",
      "PhotoGrid: Video & Pic Collage Maker, Photo Editor\n",
      "PicsArt Photo Studio: Collage Maker & Pic Editor\n",
      "Retrica\n",
      "B612 - Beauty & Filter Camera\n",
      "\n",
      "\n",
      "These are the 5 wordt photography apps:\n",
      "DV-4036 by Somikon\n",
      "Touch DV\n",
      "Displaying You VR\n",
      "EF Lens Simulator\n",
      "FD Fotografia\n"
     ]
    }
   ],
   "source": [
    "foto_app_names = app_df[app_df[\"Category\"] == \"PHOTOGRAPHY\"].sort_values(by=\"Quality\", ascending=False)[\"App\"]\n",
    "\n",
    "print(\"These are the top 5 photography apps:\")\n",
    "for name in foto_app_names[:5]:\n",
    "    print(name)\n",
    "print(\"\\n\")\n",
    "print(\"These are the 5 wordt photography apps:\")\n",
    "for name in foto_app_names[-5:]:\n",
    "    print(name)"
   ]
  }
 ],
 "metadata": {
  "kernelspec": {
   "argv": [
    "C:/Users/danie/miniconda3/envs/WTData\\python.exe",
    "-m",
    "ipykernel_launcher",
    "-f",
    "{connection_file}"
   ],
   "display_name": "Python 3 (ipykernel)",
   "env": null,
   "interrupt_mode": "signal",
   "language": "python",
   "metadata": {
    "debugger": true
   },
   "name": "python3"
  },
  "name": "Visualize.ipynb"
 },
 "nbformat": 4,
 "nbformat_minor": 5
}
