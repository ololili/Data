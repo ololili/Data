{
 "cells": [
  {
   "cell_type": "markdown",
   "id": "0e2c3b7b",
   "metadata": {
    "collapsed": false
   },
   "source": [
    "Imports"
   ]
  },
  {
   "cell_type": "code",
   "execution_count": 19,
   "id": "bd433e17",
   "metadata": {
    "collapsed": false
   },
   "outputs": [],
   "source": [
    "import pandas as pd\n",
    "import seaborn as sns\n",
    "import matplotlib.pyplot as plt\n",
    "\n",
    "import import_ipynb\n",
    "from PrepareData import get_complete_app_df, get_review_df"
   ]
  },
  {
   "cell_type": "markdown",
   "id": "6a6b8814",
   "metadata": {
    "collapsed": false
   },
   "source": [
    "Get the database"
   ]
  },
  {
   "cell_type": "code",
   "execution_count": 21,
   "id": "90370f4f",
   "metadata": {
    "collapsed": false
   },
   "outputs": [],
   "source": [
    "app_df = get_complete_app_df()\n",
    "review_df = get_review_df()"
   ]
  },
  {
   "cell_type": "markdown",
   "id": "e51fb848",
   "metadata": {
    "collapsed": false
   },
   "source": [
    "Show graphs depicting the quality of apps"
   ]
  },
  {
   "cell_type": "code",
   "execution_count": 3,
   "id": "5bd21f2a",
   "metadata": {
    "collapsed": false
   },
   "outputs": [],
   "source": [
    "category_app_df = app_df.groupby(by=\"Category\").median().reset_index()\n",
    "order_ = category_app_df.sort_values(\"Quality\")[\"Category\"]\n",
    "order_ = order_[::-1]\n"
   ]
  },
  {
   "cell_type": "code",
   "execution_count": null,
   "id": "69f06fe2",
   "metadata": {
    "collapsed": false
   },
   "outputs": [],
   "source": [
    "sns.set(rc={\"figure.figsize\": (10, 10)})\n",
    "sns.barplot(y=\"Category\", x=\"Quality\", data=category_app_df, order=order_)\n",
    "plt.grid()\n",
    "plt.xscale(\"log\")\n",
    "plt.title(\"The median quality for every category\")\n",
    "plt.show()"
   ]
  },
  {
   "cell_type": "code",
   "execution_count": null,
   "id": "c00423ff",
   "metadata": {
    "collapsed": false
   },
   "outputs": [],
   "source": [
    "sns.set(rc={\"figure.figsize\": (10, 10)})\n",
    "sns.boxplot(y=\"Category\", x=\"Quality\", data=app_df, order=order_[:10])\n",
    "plt.grid()\n",
    "plt.xscale(\"log\")\n",
    "plt.title(\"The top 10 categories by median quality\")\n",
    "plt.show()"
   ]
  },
  {
   "cell_type": "code",
   "execution_count": 53,
   "id": "5c91e12e",
   "metadata": {
    "collapsed": false
   },
   "outputs": [],
   "source": [
    "top_ten_df = app_df[app_df[\"Category\"].isin(order_[:10])]\n",
    "\n",
    "top_ten_df = top_ten_df.groupby(by=\"Category\").count().reset_index()\n",
    "\n",
    "top_ten_df = top_ten_df.drop(top_ten_df[top_ten_df[\"App\"] == 0].index)\n",
    "\n",
    "top_ten_df[\"Category\"] = top_ten_df[\"Category\"].cat.remove_unused_categories()\n",
    "\n",
    "#def sorter(row):\n",
    "#    row[\"Sorted\"] = list(order_).index(row[\"Category\"])\n",
    "#    return row\n",
    "\n",
    "#top_ten_df = top_ten_df.apply(sorter, axis=1)\n",
    "#top_ten_df = top_ten_df.sort_values(\"Sorted\")"
   ]
  },
  {
   "cell_type": "code",
   "execution_count": null,
   "id": "d352cd1d",
   "metadata": {
    "collapsed": false
   },
   "outputs": [],
   "source": [
    "sns.barplot(x=\"App\", y=\"Category\", data=top_ten_df, order=order_[:10])\n",
    "plt.xlabel(\"Amount of apps\")\n",
    "plt.show()"
   ]
  },
  {
   "cell_type": "code",
   "execution_count": 59,
   "id": "b71c6e59",
   "metadata": {
    "collapsed": false
   },
   "outputs": [
    {
     "name": "stdout",
     "output_type": "stream",
     "text": [
      "These are the top 5 photography apps:\n",
      "Google Photos\n",
      "PhotoGrid: Video & Pic Collage Maker, Photo Editor\n",
      "PicsArt Photo Studio: Collage Maker & Pic Editor\n",
      "Retrica\n",
      "B612 - Beauty & Filter Camera\n",
      "\n",
      "\n",
      "These are the 5 worst photography apps:\n",
      "DV-4036 by Somikon\n",
      "Touch DV\n",
      "Displaying You VR\n",
      "EF Lens Simulator\n",
      "FD Fotografia\n"
     ]
    }
   ],
   "source": [
    "foto_app_names = app_df[app_df[\"Category\"] == \"PHOTOGRAPHY\"].sort_values(by=\"Quality\", ascending=False)[\"App\"]\n",
    "\n",
    "print(\"These are the top 5 photography apps:\")\n",
    "for name in foto_app_names[:5]:\n",
    "    print(name)\n",
    "print(\"\\n\")\n",
    "print(\"These are the 5 worst photography apps:\")\n",
    "for name in foto_app_names[-5:]:\n",
    "    print(name)"
   ]
  },
  {
   "cell_type": "code",
   "execution_count": 58,
   "id": "d6e39d0b",
   "metadata": {
    "collapsed": false
   },
   "outputs": [
    {
     "name": "stdout",
     "output_type": "stream",
     "text": [
      "These are the top 5 entertainment apps:\n",
      "Google Play Games\n",
      "Netflix\n",
      "Hotstar\n",
      "Talking Ben the Dog\n",
      "Talking Angela\n",
      "\n",
      "\n",
      "These are the 5 worst entertainment apps:\n",
      "Cooking Channel\n",
      "Kidjo TV Kids Have Fun & Learn\n",
      "Tribeca Shortlist - Handpicked Movies\n",
      "Acorn TV: World-class TV from Britain and Beyond\n",
      "Sticker Market: Emoji keyboard\n"
     ]
    }
   ],
   "source": [
    "ent_app_names = app_df[app_df[\"Category\"] == \"ENTERTAINMENT\"].sort_values(by=\"Quality\", ascending=False)[\"App\"]\n",
    "\n",
    "print(\"These are the top 5 entertainment apps:\")\n",
    "for name in ent_app_names[:5]:\n",
    "    print(name)\n",
    "print(\"\\n\")\n",
    "print(\"These are the 5 worst entertainment apps:\")\n",
    "for name in ent_app_names[-5:]:\n",
    "    print(name)"
   ]
  }
 ],
 "metadata": {
  "kernelspec": {
   "argv": [
    "C:/Users/danie/miniconda3/envs/WTData\\python.exe",
    "-m",
    "ipykernel_launcher",
    "-f",
    "{connection_file}"
   ],
   "display_name": "Python 3 (ipykernel)",
   "env": null,
   "interrupt_mode": "signal",
   "language": "python",
   "metadata": {
    "debugger": true
   },
   "name": "python3"
  },
  "name": "Visualize.ipynb"
 },
 "nbformat": 4,
 "nbformat_minor": 5
}
