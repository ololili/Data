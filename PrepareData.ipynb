{
 "cells": [
  {
   "cell_type": "markdown",
   "id": "37c6ef57",
   "metadata": {
    "collapsed": false
   },
   "source": [
    "Imports"
   ]
  },
  {
   "cell_type": "code",
   "execution_count": 8,
   "id": "24f0d35d",
   "metadata": {
    "collapsed": false
   },
   "outputs": [],
   "source": [
    "import pandas as pd"
   ]
  },
  {
   "cell_type": "markdown",
   "id": "aba795e7",
   "metadata": {
    "collapsed": false
   },
   "source": [
    "Functions to get a pandas dataframe from the csv file and clean the data"
   ]
  },
  {
   "cell_type": "code",
   "execution_count": 9,
   "id": "3ebedd57",
   "metadata": {
    "collapsed": false
   },
   "outputs": [],
   "source": [
    "def get_app_df():\n",
    "    df = pd.read_csv(\"googleplaystore.csv\")\n",
    "    #this is a manually detected bad row\n",
    "    df = df.drop(index=10472)\n",
    "    return df\n",
    "\n",
    "def clean_app_df(df):\n",
    "    #this function cleans the columns in order\n",
    "    #first make a copy of the df\n",
    "    df = df.copy()\n",
    "\n",
    "    #App has some duplicate values\n",
    "    df = df.drop_duplicates(subset=\"App\")\n",
    "\n",
    "    #Category needs to be a category dtype\n",
    "    df[\"Category\"] = df[\"Category\"].astype(\"category\")\n",
    "\n",
    "    #Rating is alright\n",
    "\n",
    "    #Reviews needs to be int dtype\n",
    "    df[\"Reviews\"] = convert_reviews_to_int(df[\"Reviews\"])\n",
    "\n",
    "    #Size needs to be float dtype\n",
    "    df[\"Size\"] = size_convert_to_float(df[\"Size\"])\n",
    "\n",
    "    #Installs needs to be int dtype\n",
    "    df[\"Installs\"] = installs_convert_to_int(df[\"Installs\"])\n",
    "\n",
    "    #Type needs to be category dtype\n",
    "    df[\"Type\"] = df[\"Type\"].astype(\"category\")\n",
    "\n",
    "    #Price needs to be float dtype\n",
    "    df[\"Price\"] = price_convert_to_float(df[\"Price\"])\n",
    "\n",
    "    #Content rating needs to be category dtype\n",
    "    df[\"Content Rating\"] = df[\"Content Rating\"].astype(\"category\")\n",
    "\n",
    "    #Genres needs to be lists\n",
    "    df[\"Genres\"] = genres_convert_to_lists(df[\"Genres\"])\n",
    "\n",
    "    #Last updated needs to be list dtype\n",
    "    df[\"Last Updated\"] = df[\"Last Updated\"].apply(pd.to_datetime)\n",
    "\n",
    "    #Current Ver needs to be category dtype\n",
    "    df[\"Current Ver\"] = df[\"Current Ver\"].astype(\"category\")\n",
    "\n",
    "    #Android Ver needs to be category dtype\n",
    "    df[\"Android Ver\"] = df[\"Android Ver\"].astype(\"category\")\n",
    "\n",
    "    return df\n",
    "\n",
    "def convert_reviews_to_int(reviews):\n",
    "    reviews = reviews.copy()\n",
    "    reviews = reviews.apply(pd.to_numeric, errors=\"ignore\")\n",
    "\n",
    "    for i, value in enumerate(reviews):\n",
    "        if type(value) == type(\"string\"):\n",
    "            if value[-1] == \"M\":\n",
    "                new_value = int(float(value[:-1]) * 1000000)\n",
    "                reviews[i] = new_value\n",
    "\n",
    "    return reviews.apply(pd.to_numeric)\n",
    "\n",
    "def size_turn_value_to_float(value):\n",
    "    if value[-1] == \"M\":\n",
    "        return float(value[:-1]) * 1000000\n",
    "    elif value[-1] == \"k\":\n",
    "        return float(value[:-1]) * 1000\n",
    "    elif value[-1] == \"+\":\n",
    "        return float(value[:-1].replace(\",\", \"\"))\n",
    "    else:\n",
    "        return value\n",
    "\n",
    "def size_convert_to_float(size):\n",
    "    size = size.copy()\n",
    "    size = size.apply(size_turn_value_to_float)\n",
    "    size = size.apply(pd.to_numeric, errors=\"coerce\")\n",
    "    return size\n",
    "\n",
    "def installs_convert_value_to_int(value):\n",
    "    if value[-1] == \"+\":\n",
    "        return int(value[:-1].replace(\",\", \"\"))\n",
    "    elif value == \"0\":\n",
    "        return int(value)\n",
    "    else:\n",
    "        return value\n",
    "\n",
    "def installs_convert_to_int(installs):\n",
    "    installs = installs.copy()\n",
    "    installs = installs.apply(installs_convert_value_to_int)\n",
    "    installs = installs.apply(pd.to_numeric)\n",
    "    return installs\n",
    "\n",
    "def price_convert_value_to_float(value):\n",
    "    if value == \"0\":\n",
    "        return float(value)\n",
    "    elif value[0] == \"$\":\n",
    "        return float(value[1:])\n",
    "    else:\n",
    "        return value\n",
    "\n",
    "def price_convert_to_float(price):\n",
    "    price = price.copy()\n",
    "    price = price.apply(price_convert_value_to_float)\n",
    "    price = price.apply(pd.to_numeric)\n",
    "    return price\n",
    "\n",
    "def genres_seperate_doubles(value):\n",
    "    if (loc := value.find(\";\")) == -1:\n",
    "        return [value]\n",
    "    else:\n",
    "        return [value[:loc], value[loc + 1:]]\n",
    "\n",
    "\n",
    "def genres_convert_to_lists(genres):\n",
    "    genres = genres.copy()\n",
    "    genres = genres.apply(genres_seperate_doubles)\n",
    "    return genres\n",
    "\n",
    "\n",
    "\n"
   ]
  },
  {
   "cell_type": "markdown",
   "id": "cd86686f",
   "metadata": {
    "collapsed": false
   },
   "source": [
    "A function to get and clean the reviews"
   ]
  },
  {
   "cell_type": "code",
   "execution_count": 10,
   "id": "3ec5acaa",
   "metadata": {
    "collapsed": false
   },
   "outputs": [],
   "source": [
    "def get_review_df():\n",
    "    df = pd.read_csv(\"googleplaystore_user_reviews.csv\")\n",
    "    df[\"Sentiment\"] = df[\"Sentiment\"].astype(\"category\")\n",
    "    return df"
   ]
  },
  {
   "cell_type": "markdown",
   "id": "4ad4eb37",
   "metadata": {
    "collapsed": false
   },
   "source": [
    "Functions to create extra columns in the app database for added functionality"
   ]
  },
  {
   "cell_type": "code",
   "execution_count": 11,
   "id": "61eca692",
   "metadata": {
    "collapsed": false
   },
   "outputs": [],
   "source": [
    "def create_quality(df):\n",
    "    \"\"\"Create another column that represents the quality of an app\"\"\"\n",
    "    df = df.copy()\n",
    "    df[\"Quality\"] = df.apply(lambda row: create_row_quality(row), axis=1)\n",
    "\n",
    "    return df\n",
    "\n",
    "def create_profit(df):\n",
    "    \"\"\"Create another column that represents the profit made by the app\"\"\"\n",
    "    df = df.copy()\n",
    "    df[\"Profit\"] = df.apply(lambda row: create_row_profit(row), axis=1)\n",
    "    return df\n",
    "\n",
    "def create_row_quality(row):\n",
    "    return row[\"Rating\"] * row[\"Reviews\"] * row[\"Installs\"]\n",
    "\n",
    "def create_row_profit(row):\n",
    "    return row[\"Installs\"] * row[\"Price\"]\n"
   ]
  },
  {
   "cell_type": "markdown",
   "id": "6ee3f293",
   "metadata": {
    "collapsed": false
   },
   "source": [
    "A function to automate the other functions"
   ]
  },
  {
   "cell_type": "code",
   "execution_count": 12,
   "id": "5d422132",
   "metadata": {
    "collapsed": false
   },
   "outputs": [],
   "source": [
    "def get_complete_app_df():\n",
    "    df = get_app_df()\n",
    "    df = clean_app_df(df)\n",
    "    df = create_profit(df)\n",
    "    df = create_quality(df)\n",
    "    return df"
   ]
  },
  {
   "cell_type": "code",
   "execution_count": 13,
   "id": "f6e16758",
   "metadata": {
    "collapsed": false
   },
   "outputs": [],
   "source": [
    "def get_merged_df():\n",
    "    df = get_complete_app_df()\n",
    "    review_df = get_review_df()\n",
    "    df = pd.merge(review_df, df, left_on=\"App\", right_on=\"App\")\n",
    "    return df"
   ]
  },
  {
   "cell_type": "code",
   "execution_count": 14,
   "id": "80cb2fbe",
   "metadata": {
    "collapsed": false
   },
   "outputs": [
    {
     "name": "stdout",
     "output_type": "stream",
     "text": [
      "<class 'pandas.core.frame.DataFrame'>\n",
      "Int64Index: 61556 entries, 0 to 61555\n",
      "Data columns (total 19 columns):\n",
      " #   Column                  Non-Null Count  Dtype         \n",
      "---  ------                  --------------  -----         \n",
      " 0   App                     61556 non-null  object        \n",
      " 1   Translated_Review       35929 non-null  object        \n",
      " 2   Sentiment               35934 non-null  category      \n",
      " 3   Sentiment_Polarity      35934 non-null  float64       \n",
      " 4   Sentiment_Subjectivity  35934 non-null  float64       \n",
      " 5   Category                61556 non-null  category      \n",
      " 6   Rating                  61556 non-null  float64       \n",
      " 7   Reviews                 61556 non-null  int64         \n",
      " 8   Size                    41150 non-null  float64       \n",
      " 9   Installs                61556 non-null  int64         \n",
      " 10  Type                    61556 non-null  category      \n",
      " 11  Price                   61556 non-null  float64       \n",
      " 12  Content Rating          61556 non-null  category      \n",
      " 13  Genres                  61556 non-null  object        \n",
      " 14  Last Updated            61556 non-null  datetime64[ns]\n",
      " 15  Current Ver             61556 non-null  category      \n",
      " 16  Android Ver             61556 non-null  category      \n",
      " 17  Profit                  61556 non-null  float64       \n",
      " 18  Quality                 61556 non-null  float64       \n",
      "dtypes: category(6), datetime64[ns](1), float64(7), int64(2), object(3)\n",
      "memory usage: 7.1+ MB\n"
     ]
    }
   ],
   "source": [
    "df = get_merged_df()\n",
    "df.info()"
   ]
  }
 ],
 "metadata": {
  "kernelspec": {
   "argv": [
    "C:/Users/danie/miniconda3/envs/WTData\\python.exe",
    "-m",
    "ipykernel_launcher",
    "-f",
    "{connection_file}"
   ],
   "display_name": "Python 3 (ipykernel)",
   "env": null,
   "interrupt_mode": "signal",
   "language": "python",
   "metadata": {
    "debugger": true
   },
   "name": "python3"
  },
  "name": "PrepareData.ipynb"
 },
 "nbformat": 4,
 "nbformat_minor": 5
}
