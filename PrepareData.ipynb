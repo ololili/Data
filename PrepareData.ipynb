{
 "cells": [
  {
   "cell_type": "markdown",
   "id": "1e88dafb",
   "metadata": {
    "collapsed": false
   },
   "source": [
    "Imports"
   ]
  },
  {
   "cell_type": "code",
   "execution_count": 5,
   "id": "87a3b18d",
   "metadata": {
    "collapsed": false
   },
   "outputs": [],
   "source": [
    "import pandas as pd"
   ]
  },
  {
   "cell_type": "markdown",
   "id": "6dc15aef",
   "metadata": {
    "collapsed": false
   },
   "source": [
    "Functions to get a pandas dataframe from the csv file and clean the data"
   ]
  },
  {
   "cell_type": "code",
   "execution_count": 6,
   "id": "d3eb3168",
   "metadata": {
    "collapsed": false
   },
   "outputs": [],
   "source": [
    "def get_df():\n",
    "    df = pd.read_csv(\"googleplaystore.csv\")\n",
    "    #this is a manually detected bad row\n",
    "    df = df.drop(index=10472)\n",
    "    return df\n",
    "\n",
    "def clean_df(df):\n",
    "    #this function cleans the columns in order\n",
    "    #first make a copy of the df\n",
    "    df = df.copy()\n",
    "    \n",
    "    #App is alright\n",
    "\n",
    "    #Category needs to be a category dtype\n",
    "    df[\"Category\"] = df[\"Category\"].astype(\"category\")\n",
    "\n",
    "    #Rating is alright\n",
    "\n",
    "    #Reviews needs to be int dtype\n",
    "    df[\"Reviews\"] = convert_reviews_to_int(df[\"Reviews\"])\n",
    "\n",
    "    #Size needs to be float dtype\n",
    "    df[\"Size\"] = size_convert_to_float(df[\"Size\"])\n",
    "\n",
    "    #Installs needs to be int dtype\n",
    "    df[\"Installs\"] = installs_convert_to_int(df[\"Installs\"])\n",
    "\n",
    "    #Type needs to be category dtype\n",
    "    df[\"Type\"] = df[\"Type\"].astype(\"category\")\n",
    "\n",
    "    #Price needs to be float dtype\n",
    "    df[\"Price\"] = price_convert_to_float(df[\"Price\"])\n",
    "\n",
    "    #Content rating needs to be category dtype\n",
    "    df[\"Content Rating\"] = df[\"Content Rating\"].astype(\"category\")\n",
    "\n",
    "    #Genres needs to be lists\n",
    "    df[\"Genres\"] = genres_convert_to_lists(df[\"Genres\"])\n",
    "\n",
    "    #Last updated needs to be list dtype\n",
    "    df[\"Last Updated\"] = df[\"Last Updated\"].apply(pd.to_datetime)\n",
    "\n",
    "    #Current Ver needs to be category dtype\n",
    "    df[\"Current Ver\"] = df[\"Current Ver\"].astype(\"category\")\n",
    "\n",
    "    #Android Ver needs to be category dtype\n",
    "    df[\"Android Ver\"] = df[\"Android Ver\"].astype(\"category\")\n",
    "\n",
    "    return df\n",
    "\n",
    "def convert_reviews_to_int(reviews):\n",
    "    reviews = reviews.copy()\n",
    "    reviews = reviews.apply(pd.to_numeric, errors=\"ignore\")\n",
    "\n",
    "    for i, value in enumerate(reviews):\n",
    "        if type(value) == type(\"string\"):\n",
    "            if value[-1] == \"M\":\n",
    "                new_value = int(float(value[:-1]) * 1000000)\n",
    "                reviews[i] = new_value\n",
    "\n",
    "    return reviews.apply(pd.to_numeric)\n",
    "\n",
    "def size_turn_value_to_float(value):\n",
    "    if value[-1] == \"M\":\n",
    "        return float(value[:-1]) * 1000000\n",
    "    elif value[-1] == \"k\":\n",
    "        return float(value[:-1]) * 1000\n",
    "    elif value[-1] == \"+\":\n",
    "        return float(value[:-1].replace(\",\", \"\"))\n",
    "    else:\n",
    "        return value\n",
    "\n",
    "def size_convert_to_float(size):\n",
    "    size = size.copy()\n",
    "    size = size.apply(size_turn_value_to_float)\n",
    "    size = size.apply(pd.to_numeric, errors=\"coerce\")\n",
    "    return size\n",
    "\n",
    "def installs_convert_value_to_int(value):\n",
    "    if value[-1] == \"+\":\n",
    "        return int(value[:-1].replace(\",\", \"\"))\n",
    "    elif value == \"0\":\n",
    "        return int(value)\n",
    "    else:\n",
    "        return value\n",
    "\n",
    "def installs_convert_to_int(installs):\n",
    "    installs = installs.copy()\n",
    "    installs = installs.apply(installs_convert_value_to_int)\n",
    "    installs = installs.apply(pd.to_numeric)\n",
    "    return installs\n",
    "\n",
    "def price_convert_value_to_float(value):\n",
    "    if value == \"0\":\n",
    "        return float(value)\n",
    "    elif value[0] == \"$\":\n",
    "        return float(value[1:])\n",
    "    else:\n",
    "        return value\n",
    "\n",
    "def price_convert_to_float(price):\n",
    "    price = price.copy()\n",
    "    price = price.apply(price_convert_value_to_float)\n",
    "    price = price.apply(pd.to_numeric)\n",
    "    return price\n",
    "\n",
    "def genres_seperate_doubles(value):\n",
    "    if (loc := value.find(\";\")) == -1:\n",
    "        return [value]\n",
    "    else:\n",
    "        return [value[:loc], value[loc + 1:]]\n",
    "\n",
    "\n",
    "def genres_convert_to_lists(genres):\n",
    "    genres = genres.copy()\n",
    "    genres = genres.apply(genres_seperate_doubles)\n",
    "    return genres\n",
    "\n",
    "\n",
    "\n"
   ]
  },
  {
   "cell_type": "markdown",
   "id": "8a00e775",
   "metadata": {
    "collapsed": false
   },
   "source": [
    "Functions to create extra columns in the database for added functionality"
   ]
  },
  {
   "cell_type": "code",
   "execution_count": 19,
   "id": "099b09cb",
   "metadata": {
    "collapsed": false
   },
   "outputs": [],
   "source": [
    "def create_quality(df):\n",
    "    \"\"\"Create another column that represents the quality of an app\"\"\"\n",
    "    df = df.copy()\n",
    "    df[\"Quality\"] = df.apply(lambda row: create_row_quality(row), axis=1)\n",
    "\n",
    "    return df\n",
    "\n",
    "def create_profit(df):\n",
    "    \"\"\"Create another column that represents the profit made by the app\"\"\"\n",
    "    df = df.copy()\n",
    "    df[\"Profit\"] = df.apply(lambda row: create_row_profit(row), axis=1)\n",
    "    return df\n",
    "\n",
    "def create_row_quality(row):\n",
    "    return row[\"Rating\"] * row[\"Reviews\"] * row[\"Installs\"]\n",
    "\n",
    "def create_row_profit(row):\n",
    "    return row[\"Installs\"] * row[\"Price\"]\n"
   ]
  },
  {
   "cell_type": "markdown",
   "id": "5a01a010",
   "metadata": {
    "collapsed": false
   },
   "source": [
    "A function to automate the other functions"
   ]
  },
  {
   "cell_type": "code",
   "execution_count": null,
   "id": "3073617f",
   "metadata": {
    "collapsed": false
   },
   "outputs": [],
   "source": [
    "def get_complete_df():\n",
    "    df = get_df()\n",
    "    df = clean_df(df)\n",
    "    df = create_profit(df)\n",
    "    df = create_quality(df)\n",
    "    return df"
   ]
  }
 ],
 "metadata": {
  "kernelspec": {
   "argv": [
    "C:/Users/danie/miniconda3/envs/WTData\\python.exe",
    "-m",
    "ipykernel_launcher",
    "-f",
    "{connection_file}"
   ],
   "display_name": "Python 3 (ipykernel)",
   "env": null,
   "interrupt_mode": "signal",
   "language": "python",
   "metadata": {
    "debugger": true
   },
   "name": "python3"
  },
  "name": "PrepareData.ipynb"
 },
 "nbformat": 4,
 "nbformat_minor": 5
}
