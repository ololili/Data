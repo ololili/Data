{
 "cells": [
  {
   "cell_type": "markdown",
   "id": "0f5ab2a0",
   "metadata": {
    "collapsed": false
   },
   "source": [
    "Here go the imports"
   ]
  },
  {
   "cell_type": "code",
   "execution_count": 2,
   "id": "2b4fb63d",
   "metadata": {
    "collapsed": false
   },
   "outputs": [],
   "source": [
    "import pandas as pd\n"
   ]
  },
  {
   "cell_type": "markdown",
   "id": "8b7590d8",
   "metadata": {
    "collapsed": false
   },
   "source": [
    "Functions to create and clean the dataframe"
   ]
  },
  {
   "cell_type": "code",
   "execution_count": 125,
   "id": "77b36172",
   "metadata": {
    "collapsed": false
   },
   "outputs": [],
   "source": [
    "def get_df():\n",
    "    df = pd.read_csv(\"googleplaystore.csv\")\n",
    "    #this is a manually detected bad row\n",
    "    df = df.drop(index=10472)\n",
    "    return df\n",
    "\n",
    "def clean_df(df):\n",
    "    #this function cleans the columns in order\n",
    "    #first make a copy of the df\n",
    "    df = df.copy()\n",
    "    \n",
    "    #App is alright\n",
    "\n",
    "    #Category needs to be a category dtype\n",
    "    df[\"Category\"] = df[\"Category\"].astype(\"category\")\n",
    "\n",
    "    #Rating is alright\n",
    "\n",
    "    #Reviews needs to be int dtype\n",
    "    df[\"Reviews\"] = convert_reviews_to_int(df[\"Reviews\"])\n",
    "\n",
    "    #Size needs to be float dtype\n",
    "    df[\"Size\"] = size_convert_to_float(df[\"Size\"])\n",
    "\n",
    "    #Installs needs to be int dtype\n",
    "    df[\"Installs\"] = installs_convert_to_int(df[\"Installs\"])\n",
    "\n",
    "    #Type needs to be category dtype\n",
    "    df[\"Type\"] = df[\"Type\"].astype(\"category\")\n",
    "\n",
    "    #Price needs to be float dtype\n",
    "    df[\"Price\"] = price_convert_to_float(df[\"Price\"])\n",
    "\n",
    "    #Content rating needs to be category dtype\n",
    "    df[\"Content Rating\"] = df[\"Content Rating\"].astype(\"category\")\n",
    "    \n",
    "    return df\n",
    "\n",
    "def convert_reviews_to_int(reviews):\n",
    "    reviews = reviews.copy()\n",
    "    reviews = reviews.apply(pd.to_numeric, errors=\"ignore\")\n",
    "\n",
    "    for i, value in enumerate(reviews):\n",
    "        if type(value) == type(\"string\"):\n",
    "            if value[-1] == \"M\":\n",
    "                new_value = int(float(value[:-1]) * 1000000)\n",
    "                reviews[i] = new_value\n",
    "\n",
    "    return reviews.apply(pd.to_numeric)\n",
    "\n",
    "def size_turn_value_to_float(value):\n",
    "    if value[-1] == \"M\":\n",
    "        return float(value[:-1]) * 1000000\n",
    "    elif value[-1] == \"k\":\n",
    "        return float(value[:-1]) * 1000\n",
    "    elif value[-1] == \"+\":\n",
    "        return float(value[:-1].replace(\",\", \"\"))\n",
    "    else:\n",
    "        return value\n",
    "\n",
    "def size_convert_to_float(size):\n",
    "    size = size.copy()\n",
    "    size = size.apply(size_turn_value_to_float)\n",
    "    size = size.apply(pd.to_numeric, errors=\"coerce\")\n",
    "    return size\n",
    "\n",
    "def installs_convert_value_to_int(value):\n",
    "    if value[-1] == \"+\":\n",
    "        return int(value[:-1].replace(\",\", \"\"))\n",
    "    elif value == \"0\":\n",
    "        return int(value)\n",
    "    else:\n",
    "        return value\n",
    "\n",
    "def installs_convert_to_int(installs):\n",
    "    installs = installs.copy()\n",
    "    installs = installs.apply(installs_convert_value_to_int)\n",
    "    installs = installs.apply(pd.to_numeric)\n",
    "    return installs\n",
    "\n",
    "def price_convert_value_to_float(value):\n",
    "    if value == \"0\":\n",
    "        return float(value)\n",
    "    elif value[0] == \"$\":\n",
    "        return float(value[1:])\n",
    "    else:\n",
    "        return value\n",
    "\n",
    "def price_convert_to_float(price):\n",
    "    price = price.copy()\n",
    "    price = price.apply(price_convert_value_to_float)\n",
    "    price = price.apply(pd.to_numeric)\n",
    "    return price"
   ]
  },
  {
   "cell_type": "markdown",
   "id": "e9f1a92d",
   "metadata": {
    "collapsed": false
   },
   "source": [
    "Create and clean the df"
   ]
  },
  {
   "cell_type": "code",
   "execution_count": 126,
   "id": "0c122a87",
   "metadata": {
    "collapsed": false
   },
   "outputs": [],
   "source": [
    "play_df = get_df()\n",
    "play_df_clean = clean_df(play_df)"
   ]
  },
  {
   "cell_type": "markdown",
   "id": "2c49398e",
   "metadata": {
    "collapsed": false
   },
   "source": [
    "Experimenting with the df"
   ]
  },
  {
   "cell_type": "code",
   "execution_count": 124,
   "id": "f2357d1a",
   "metadata": {
    "collapsed": false
   },
   "outputs": [
    {
     "data": {
      "text/plain": [
       "0          Everyone\n",
       "1          Everyone\n",
       "2          Everyone\n",
       "3              Teen\n",
       "4          Everyone\n",
       "            ...    \n",
       "10836      Everyone\n",
       "10837      Everyone\n",
       "10838      Everyone\n",
       "10839    Mature 17+\n",
       "10840      Everyone\n",
       "Name: Content Rating, Length: 10840, dtype: category\n",
       "Categories (6, object): ['Adults only 18+', 'Everyone', 'Everyone 10+', 'Mature 17+', 'Teen', 'Unrated']"
      ]
     },
     "execution_count": 124,
     "metadata": {},
     "output_type": "execute_result"
    }
   ],
   "source": [
    "content = play_df[\"Content Rating\"].copy()\n",
    "content.astype(\"category\")"
   ]
  },
  {
   "cell_type": "code",
   "execution_count": 127,
   "id": "23474247",
   "metadata": {
    "collapsed": false
   },
   "outputs": [
    {
     "name": "stdout",
     "output_type": "stream",
     "text": [
      "<class 'pandas.core.frame.DataFrame'>\n",
      "Int64Index: 10840 entries, 0 to 10840\n",
      "Data columns (total 13 columns):\n",
      " #   Column          Non-Null Count  Dtype   \n",
      "---  ------          --------------  -----   \n",
      " 0   App             10840 non-null  object  \n",
      " 1   Category        10840 non-null  category\n",
      " 2   Rating          9366 non-null   float64 \n",
      " 3   Reviews         10840 non-null  int64   \n",
      " 4   Size            9145 non-null   float64 \n",
      " 5   Installs        10840 non-null  int64   \n",
      " 6   Type            10839 non-null  category\n",
      " 7   Price           10840 non-null  float64 \n",
      " 8   Content Rating  10840 non-null  category\n",
      " 9   Genres          10840 non-null  object  \n",
      " 10  Last Updated    10840 non-null  object  \n",
      " 11  Current Ver     10832 non-null  object  \n",
      " 12  Android Ver     10838 non-null  object  \n",
      "dtypes: category(3), float64(3), int64(2), object(5)\n",
      "memory usage: 965.0+ KB\n"
     ]
    }
   ],
   "source": [
    "play_df_clean.info()"
   ]
  }
 ],
 "metadata": {
  "kernelspec": {
   "argv": [
    "C:/Users/danie/miniconda3/envs/WTData\\python.exe",
    "-m",
    "ipykernel_launcher",
    "-f",
    "{connection_file}"
   ],
   "display_name": "Python 3 (ipykernel)",
   "env": null,
   "interrupt_mode": "signal",
   "language": "python",
   "metadata": {
    "debugger": true
   },
   "name": "python3"
  },
  "language_info": {
   "codemirror_mode": {
    "name": "ipython",
    "version": 3
   },
   "file_extension": ".py",
   "mimetype": "text/x-python",
   "name": "python",
   "nbconvert_exporter": "python",
   "pygments_lexer": "ipython3",
   "version": "3.10.4"
  },
  "name": "ExploreData.ipynb"
 },
 "nbformat": 4,
 "nbformat_minor": 5
}
