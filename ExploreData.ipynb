{
 "cells": [
  {
   "cell_type": "markdown",
   "id": "ef9abd07",
   "metadata": {
    "collapsed": false
   },
   "source": [
    "Here go the imports"
   ]
  },
  {
   "cell_type": "code",
   "execution_count": 36,
   "id": "b0b081b1",
   "metadata": {
    "collapsed": false
   },
   "outputs": [],
   "source": [
    "import pandas as pd\n",
    "import seaborn as sns\n",
    "import matplotlib.pyplot as plt\n",
    "import numpy as np\n",
    "\n",
    "import import_ipynb\n",
    "from PrepareData import get_complete_app_df, get_app_df, clean_app_df, get_review_df, get_merged_df"
   ]
  },
  {
   "cell_type": "markdown",
   "id": "b386e6c0",
   "metadata": {
    "collapsed": false
   },
   "source": [
    "Create and clean the df"
   ]
  },
  {
   "cell_type": "code",
   "execution_count": 2,
   "id": "7726ab35",
   "metadata": {
    "collapsed": false
   },
   "outputs": [],
   "source": [
    "app_df = get_app_df()\n",
    "app_df_clean = clean_app_df(app_df)\n",
    "app_df_complete = get_complete_app_df()\n",
    "review_df = get_review_df()\n",
    "total_df = get_merged_df()"
   ]
  },
  {
   "cell_type": "markdown",
   "id": "e0053d4d",
   "metadata": {
    "collapsed": false
   },
   "source": [
    "Experimenting with the df"
   ]
  },
  {
   "cell_type": "code",
   "execution_count": 10,
   "id": "538e55b9",
   "metadata": {
    "collapsed": false
   },
   "outputs": [],
   "source": [
    "category_app_df = app_df_complete.groupby(by=\"Category\").median().reset_index()\n",
    "order_ = category_app_df.sort_values(\"Quality\")[\"Category\"]\n",
    "order_ = order_[::-1]\n"
   ]
  },
  {
   "cell_type": "code",
   "execution_count": 70,
   "id": "4cc04fbe",
   "metadata": {
    "collapsed": false
   },
   "outputs": [
    {
     "name": "stdout",
     "output_type": "stream",
     "text": [
      "<class 'pandas.core.frame.DataFrame'>\n",
      "Int64Index: 40 entries, 56669 to 56708\n",
      "Data columns (total 5 columns):\n",
      " #   Column                  Non-Null Count  Dtype   \n",
      "---  ------                  --------------  -----   \n",
      " 0   App                     40 non-null     object  \n",
      " 1   Translated_Review       0 non-null      object  \n",
      " 2   Sentiment               0 non-null      category\n",
      " 3   Sentiment_Polarity      0 non-null      float64 \n",
      " 4   Sentiment_Subjectivity  0 non-null      float64 \n",
      "dtypes: category(1), float64(2), object(2)\n",
      "memory usage: 1.7+ KB\n"
     ]
    }
   ],
   "source": [
    "review_df[review_df[\"App\"] == \"Google Play Games\"].info()"
   ]
  }
 ],
 "metadata": {
  "kernelspec": {
   "argv": [
    "C:/Users/danie/miniconda3/envs/WTData\\python.exe",
    "-m",
    "ipykernel_launcher",
    "-f",
    "{connection_file}"
   ],
   "display_name": "Python 3 (ipykernel)",
   "env": null,
   "interrupt_mode": "signal",
   "language": "python",
   "metadata": {
    "debugger": true
   },
   "name": "python3"
  },
  "language_info": {
   "codemirror_mode": {
    "name": "ipython",
    "version": 3
   },
   "file_extension": ".py",
   "mimetype": "text/x-python",
   "name": "python",
   "nbconvert_exporter": "python",
   "pygments_lexer": "ipython3",
   "version": "3.10.4"
  },
  "name": "ExploreData.ipynb"
 },
 "nbformat": 4,
 "nbformat_minor": 5
}
